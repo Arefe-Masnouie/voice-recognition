{
 "cells": [
  {
   "cell_type": "code",
   "execution_count": 1,
   "metadata": {},
   "outputs": [],
   "source": [
    "import speech_recognition as sr"
   ]
  },
  {
   "cell_type": "code",
   "execution_count": 3,
   "metadata": {},
   "outputs": [
    {
     "name": "stdout",
     "output_type": "stream",
     "text": [
      "Listening to your voice...\n",
      "Processing your voice...\n",
      "گوگل کروم را باز کن\n"
     ]
    }
   ],
   "source": [
    "print(\"Listening to your voice...\")\n",
    "record = sr.Recognizer() \n",
    "with sr.Microphone() as source:\n",
    "    record.pause_threshold =1 #stop afer 1 second of not hearin\n",
    "    audio = record.listen(source) #put everything you hear in this\n",
    "\n",
    "print(\"Processing your voice...\")\n",
    "text = record.recognize_google(audio, language='fa-IR')\n",
    "print(text)"
   ]
  },
  {
   "cell_type": "code",
   "execution_count": 4,
   "metadata": {},
   "outputs": [],
   "source": [
    "if str(text).find(\"گوگل کروم\") > -1 and str(text).find(\"باز\") >-1:\n",
    "    import os\n",
    "    os.startfile(\"C:\\Program Files\\Google\\Chrome\\Application\\chrome.exe\")"
   ]
  }
 ],
 "metadata": {
  "kernelspec": {
   "display_name": "base",
   "language": "python",
   "name": "python3"
  },
  "language_info": {
   "codemirror_mode": {
    "name": "ipython",
    "version": 3
   },
   "file_extension": ".py",
   "mimetype": "text/x-python",
   "name": "python",
   "nbconvert_exporter": "python",
   "pygments_lexer": "ipython3",
   "version": "3.8.8"
  }
 },
 "nbformat": 4,
 "nbformat_minor": 2
}

{
 "cells": [
  {
   "cell_type": "code",
   "execution_count": 1,
   "metadata": {},
   "outputs": [],
   "source": [
    "import pyaudio\n",
    "import numpy as np"
   ]
  },
  {
   "cell_type": "code",
   "execution_count": 2,
   "metadata": {},
   "outputs": [],
   "source": [
    "p = pyaudio.PyAudio() # instantiate PyAudio\n",
    "chunck = 512 # number of samples per frame"
   ]
  },
  {
   "cell_type": "code",
   "execution_count": 3,
   "metadata": {},
   "outputs": [],
   "source": [
    "# open stream\n",
    "stream = p.open(format=pyaudio.paInt16,channels=1, rate=16000, input=True, frames_per_buffer=chunck)"
   ]
  },
  {
   "cell_type": "code",
   "execution_count": 4,
   "metadata": {},
   "outputs": [],
   "source": [
    "a = stream.read(chunck) # read a chunck of data"
   ]
  },
  {
   "cell_type": "code",
   "execution_count": 5,
   "metadata": {},
   "outputs": [
    {
     "name": "stderr",
     "output_type": "stream",
     "text": [
      "<ipython-input-5-8c002655622f>:1: DeprecationWarning: The binary mode of fromstring is deprecated, as it behaves surprisingly on unicode inputs. Use frombuffer instead\n",
      "  data = np.fromstring(a, dtype=np.int16) # convert data to numpy array\n"
     ]
    }
   ],
   "source": [
    "data = np.fromstring(a, dtype=np.int16) # convert data to numpy array"
   ]
  },
  {
   "cell_type": "code",
   "execution_count": 6,
   "metadata": {},
   "outputs": [
    {
     "name": "stdout",
     "output_type": "stream",
     "text": [
      "[ 0  0 -1  0  0  0  0 -1  0  0  0  0  0  0  0  0  0  0  0  0  0  0 -1  0\n",
      "  0  0  0  0  0  0  0  0  1  0 -1  0  0  0  0  0  0  0  0  0  0  0  0  0\n",
      "  0  0  0  0  0  0 -1  0  0  0  0  0  0  0  0  0  0  0  0  0  1  0  0  0\n",
      "  0  0  0  0  1  0  0  0  1  1  0  0  0 -1  1  1  0  0  0  0  0  0  0  1\n",
      "  0  0  0  1  0  0  0  0  0 -1  0  0  0  0  0  0  0  0  0  0 -1 -1 -1  0\n",
      "  0  0  0 -1  0  0  0  0  0  0  0  0  0  1  0  1  0  0  0  0  0  0  1 -1\n",
      "  0  1 -1  0  0  0  0  0  0  0 -1  0  0  0 -1  0 -1  0  0  0  0  0 -1  0\n",
      "  0  0  0  0  0 -1  0  0  0  0  0  0  0  0 -1 -1  0  0  0  0  0  1  0  0\n",
      "  0  0  0 -1  0  0  0  0  0  0  0  0  0  1  0  1  0  0  1 -1  1  0  0  0\n",
      " -1 -1  0  0  0 -1  0 -1  0  0  0 -1  0  0  0  0  1  0  0  0  0  0  0  1\n",
      "  0  1  0  0  0  0  0  0  1  0  0  0  1  1  0  0  0  0  0  0  0  0 -1  1\n",
      "  0  0  0  0  0  0  0  1  0  0 -1  0  0  0 -1 -1  0  0  1  0 -1  0  0  0\n",
      "  0  0  0 -1 -1  0  0 -1  1  0  1  0  0  0  0  0  0  1  0  0  0 -1  0  0\n",
      "  0  0  0  1 -1  0  0  0  0  0  0  0  0  0  1  0  0  0  0  0  0 -1  0  0\n",
      " -1  0  0 -1  0  0  0  0  0  0  0  0  1  0  0 -1  1  0  0 -1 -1  0  0  0\n",
      "  1 -1  0  0  0 -1  1  0  0  0  1 -1  0  0  0  0  0  0  0  0  0  0  0 -1\n",
      "  0  0  0  0  0  0  0  0  0  0  1 -1  0  0 -1  1  0  0  0  0  0  0  0  0\n",
      "  0  0  0  0  0  0 -1  0  0  0  0  0  0  0 -1  0  0  0 -1  0  0 -1 -1  0\n",
      "  0  0  0  0  1  1 -1  0 -1  0  0  0  0  0  0  0  0  1  0  0  0  0 -1  1\n",
      "  0  0  1  0  0  0  0  0  1  1  0  0  0  0  0 -1  0 -1  1  0  1  0  0  1\n",
      "  0  0  1  0  0  0  1 -1 -1  1  0  0  0 -1  0  0  1  0  0  0  0  0  0 -1\n",
      "  0  0  0 -1  0  0  1  1]\n"
     ]
    }
   ],
   "source": [
    "print(data)"
   ]
  }
 ],
 "metadata": {
  "kernelspec": {
   "display_name": "base",
   "language": "python",
   "name": "python3"
  },
  "language_info": {
   "codemirror_mode": {
    "name": "ipython",
    "version": 3
   },
   "file_extension": ".py",
   "mimetype": "text/x-python",
   "name": "python",
   "nbconvert_exporter": "python",
   "pygments_lexer": "ipython3",
   "version": "3.8.8"
  }
 },
 "nbformat": 4,
 "nbformat_minor": 2
}
